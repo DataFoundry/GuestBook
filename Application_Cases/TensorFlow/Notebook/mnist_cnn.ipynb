{
 "cells": [
  {
   "cell_type": "markdown",
   "metadata": {},
   "source": [
    "### Step 1：读取数据"
   ]
  },
  {
   "cell_type": "code",
   "execution_count": 1,
   "metadata": {
    "collapsed": false
   },
   "outputs": [
    {
     "name": "stdout",
     "output_type": "stream",
     "text": [
      "Extracting /tmp/data/train-images-idx3-ubyte.gz\n",
      "Extracting /tmp/data/train-labels-idx1-ubyte.gz\n",
      "Extracting /tmp/data/t10k-images-idx3-ubyte.gz\n",
      "Extracting /tmp/data/t10k-labels-idx1-ubyte.gz\n",
      "Training data size:  55000\n",
      "Validating data size:  5000\n",
      "Testing data size:  10000\n"
     ]
    }
   ],
   "source": [
    "import tensorflow as tf\n",
    "import time\n",
    "import numpy\n",
    "from tensorflow.examples.tutorials.mnist import input_data\n",
    "\n",
    "mnist = input_data.read_data_sets(\"/tmp/data\", one_hot=True)\n",
    "\n",
    "print \"Training data size: \", mnist.train.num_examples\n",
    "print \"Validating data size: \", mnist.validation.num_examples\n",
    "print \"Testing data size: \", mnist.test.num_examples"
   ]
  },
  {
   "cell_type": "markdown",
   "metadata": {},
   "source": [
    "### Step 2：建立神经网络"
   ]
  },
  {
   "cell_type": "code",
   "execution_count": 2,
   "metadata": {
    "collapsed": false
   },
   "outputs": [
    {
     "name": "stdout",
     "output_type": "stream",
     "text": [
      "Network created!\n"
     ]
    }
   ],
   "source": [
    "# This is where training samples and labels are fed to the graph.\n",
    "# These placeholder nodes will be fed a batch of training data at each\n",
    "# training step using the {feed_dict} argument to the Run() call below.\n",
    "BATCH_SIZE = 64\n",
    "EVAL_SIZE = 10000\n",
    "IMAGE_SIZE = 28\n",
    "NUM_CHANNELS = 1\n",
    "NUM_LABELS = 10\n",
    "\n",
    "x = tf.placeholder(tf.float32, shape=(None, IMAGE_SIZE, IMAGE_SIZE, NUM_CHANNELS))\n",
    "y_ = tf.placeholder(tf.float32, shape=(None, NUM_LABELS))\n",
    "\n",
    "# The variables below hold all the trainable weights. \n",
    "# Convolutional layers.\n",
    "conv1_weights = tf.Variable(tf.truncated_normal([5, 5, NUM_CHANNELS, 32], stddev=0.1, seed = 2))\n",
    "conv1_biases = tf.Variable(tf.zeros([32]))\n",
    "\n",
    "conv2_weights = tf.Variable(tf.truncated_normal([5, 5, 32, 64], stddev=0.1, seed = 2))\n",
    "conv2_biases = tf.Variable(tf.constant(0.1, shape=[64]))\n",
    "\n",
    "# fully connected, depth 512.\n",
    "fc1_weights = tf.Variable(tf.truncated_normal([IMAGE_SIZE // 4 * IMAGE_SIZE // 4 * 64, 512], stddev=0.1, seed = 2))\n",
    "fc1_biases = tf.Variable(tf.constant(0.1, shape=[512]))\n",
    "\n",
    "fc2_weights = tf.Variable(tf.truncated_normal([512, NUM_LABELS], stddev=0.1, seed = 2))\n",
    "fc2_biases = tf.Variable(tf.constant(0.1, shape=[NUM_LABELS]))\n",
    "\n",
    "def model(data, train=False):\n",
    "    \"\"\"The Model definition.\"\"\"\n",
    "    # 2D convolution, with 'SAME' padding (i.e. the output feature map has\n",
    "    # the same size as the input). Note that {strides} is a 4D array whose\n",
    "    # shape matches the data layout: [image index, y, x, depth].\n",
    "    conv = tf.nn.conv2d(data, conv1_weights, strides=[1, 1, 1, 1], padding='SAME')\n",
    "    # Bias and rectified linear non-linearity.\n",
    "    relu = tf.nn.relu(tf.nn.bias_add(conv, conv1_biases))\n",
    "    # Max pooling. The kernel size spec {ksize} also follows the layout of\n",
    "    # the data. Here we have a pooling window of 2, and a stride of 2.\n",
    "    pool = tf.nn.max_pool(relu, ksize=[1, 2, 2, 1], strides=[1, 2, 2, 1], padding='SAME')\n",
    "    \n",
    "    conv1 = tf.nn.conv2d(pool, conv2_weights, strides=[1, 1, 1, 1], padding='SAME')\n",
    "    relu1 = tf.nn.relu(tf.nn.bias_add(conv1, conv2_biases))\n",
    "    pool1 = tf.nn.max_pool(relu1, ksize=[1, 2, 2, 1], strides=[1, 2, 2, 1], padding='SAME')\n",
    "    \n",
    "    # Reshape the feature map into a 2D matrix to feed it to the fully connected layers.\n",
    "    pool_shape = pool1.get_shape().as_list()\n",
    "    reshape = tf.reshape(pool1, [-1, pool_shape[1] * pool_shape[2] * pool_shape[3]])\n",
    "    \n",
    "    # Fully connected layer. Note that the '+' operation automatically broadcasts the biases.\n",
    "    hidden = tf.nn.relu(tf.matmul(reshape, fc1_weights) + fc1_biases)\n",
    "    # Add a 50% dropout during training only. Dropout also scales\n",
    "    # activations such that no rescaling is needed at evaluation time.\n",
    "    if train: hidden = tf.nn.dropout(hidden, 0.5)\n",
    "    return tf.nn.softmax(tf.matmul(hidden, fc2_weights) + fc2_biases)\n",
    "\n",
    "print(\"Network created!\")"
   ]
  },
  {
   "cell_type": "markdown",
   "metadata": {},
   "source": [
    "### Step 3：建立训练过程"
   ]
  },
  {
   "cell_type": "code",
   "execution_count": 3,
   "metadata": {
    "collapsed": false
   },
   "outputs": [
    {
     "name": "stdout",
     "output_type": "stream",
     "text": [
      "Training & eval step setup!\n"
     ]
    }
   ],
   "source": [
    "# Predictions for the current training minibatch.\n",
    "train_y = model(x, True)\n",
    "\n",
    "# softmax cross entropy loss.\n",
    "loss = -tf.reduce_mean(y_ * tf.log(tf.clip_by_value(train_y, 1e-10, 1.0)))\n",
    "# L2 regularization for the fully connected parameters.\n",
    "regularizers = (tf.nn.l2_loss(fc1_weights) + tf.nn.l2_loss(fc1_biases) + \n",
    "                tf.nn.l2_loss(fc2_weights) + tf.nn.l2_loss(fc2_biases))\n",
    "# Add the regularization term to the loss.\n",
    "loss += 5e-4 * regularizers\n",
    "\n",
    "# Optimizer: set up a variable that's incremented once per batch and\n",
    "# controls the learning rate decay.\n",
    "step = tf.Variable(0)\n",
    "\n",
    "# Decay once per epoch, using an exponential schedule starting at 0.01.\n",
    "learning_rate = tf.train.exponential_decay(\n",
    "    0.01,  # Base learning rate.\n",
    "    step * BATCH_SIZE,  # Current index into the dataset.\n",
    "    mnist.train.num_examples,  # Decay step.\n",
    "    0.95,  # Decay rate.\n",
    "    staircase=True)\n",
    "\n",
    "# Use simple momentum for the optimization.\n",
    "optimizer = tf.train.MomentumOptimizer(learning_rate, 0.9).minimize(loss, global_step=step)\n",
    "\n",
    "# Training accuracy\n",
    "train_correct_prediction = tf.equal(tf.argmax(y_, 1), tf.argmax(train_y, 1))\n",
    "train_accuracy = tf.reduce_mean(tf.cast(train_correct_prediction, tf.float32))\n",
    "    \n",
    "# Predictions for the test and validation, which we'll compute less often.\n",
    "eval_y = model(x, False)\n",
    "eval_correct_prediction = tf.equal(tf.argmax(y_, 1), tf.argmax(eval_y, 1))\n",
    "eval_accuracy = tf.reduce_mean(tf.cast(eval_correct_prediction, tf.float32))\n",
    "\n",
    "print(\"Training & eval step setup!\")"
   ]
  },
  {
   "cell_type": "markdown",
   "metadata": {},
   "source": [
    "### Step 4：训练模型"
   ]
  },
  {
   "cell_type": "code",
   "execution_count": 4,
   "metadata": {
    "collapsed": false
   },
   "outputs": [
    {
     "name": "stdout",
     "output_type": "stream",
     "text": [
      "Initialized!\n",
      "After 0 training step(s), validation accuracy = 0.1132, test accuracy = 0.1294\n",
      "After 100 training step(s), validation accuracy = 0.8266, test accuracy = 0.8279\n",
      "After 200 training step(s), validation accuracy = 0.891, test accuracy = 0.8935\n",
      "After 300 training step(s), validation accuracy = 0.9214, test accuracy = 0.9251\n",
      "After 400 training step(s), validation accuracy = 0.9326, test accuracy = 0.933\n",
      "Final accuracy = 0.9383\n"
     ]
    }
   ],
   "source": [
    "# Create a local session to run the training.\n",
    "start_time = time.time()\n",
    "ROUNDS = 500\n",
    "\n",
    "reshaped_test_data = numpy.reshape(mnist.test.images, [-1, 28, 28, 1])\n",
    "test_label = mnist.test.labels\n",
    "reshaped_validate_data = numpy.reshape(mnist.validation.images, [-1, 28, 28, 1])\n",
    "validate_label = mnist.validation.labels\n",
    "\n",
    "with tf.Session() as sess:\n",
    "    # Run all the initializers to prepare the trainable parameters.\n",
    "    tf.initialize_all_variables().run()\n",
    "    print('Initialized!')\n",
    "    # Loop through training steps.\n",
    "    for i in range(ROUNDS):\n",
    "        # Run the graph and fetch some of the nodes.\n",
    "        xs, ys = mnist.train.next_batch(BATCH_SIZE)\n",
    "        reshaped_x = numpy.reshape(xs, [BATCH_SIZE, 28, 28, 1])\n",
    "        sess.run(optimizer, feed_dict={x: reshaped_x, y_: ys})\n",
    "        \n",
    "        if i % 100 == 0:\n",
    "            elapsed_time = time.time() - start_time\n",
    "            start_time = time.time()\n",
    "\n",
    "            validate_acc = sess.run(eval_accuracy, feed_dict={x: reshaped_validate_data, y_:validate_label})\n",
    "            test_acc = sess.run(eval_accuracy, feed_dict={x: reshaped_test_data, y_:test_label})\n",
    "            print(\"After %d training step(s), validation accuracy = %g, test accuracy = %g\" %  \n",
    "                  (i, validate_acc, test_acc))\n",
    "\n",
    "    test_acc = sess.run(eval_accuracy, feed_dict={x: reshaped_test_data, y_:test_label})\n",
    "    print(\"Final accuracy = %g\" %  (test_acc))"
   ]
  }
 ],
 "metadata": {
  "kernelspec": {
   "display_name": "Python 2",
   "language": "python",
   "name": "python2"
  },
  "language_info": {
   "codemirror_mode": {
    "name": "ipython",
    "version": 2
   },
   "file_extension": ".py",
   "mimetype": "text/x-python",
   "name": "python",
   "nbconvert_exporter": "python",
   "pygments_lexer": "ipython2",
   "version": "2.7.6"
  }
 },
 "nbformat": 4,
 "nbformat_minor": 0
}
